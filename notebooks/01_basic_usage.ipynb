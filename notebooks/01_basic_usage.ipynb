{
 "cells": [
  {
   "cell_type": "code",
   "execution_count": 4,
   "id": "8100e897-1f6e-4977-9a46-44865e0d834d",
   "metadata": {},
   "outputs": [
    {
     "name": "stdout",
     "output_type": "stream",
     "text": [
      "The autoreload extension is already loaded. To reload it, use:\n",
      "  %reload_ext autoreload\n"
     ]
    }
   ],
   "source": [
    "%load_ext autoreload\n",
    "%autoreload 2"
   ]
  },
  {
   "cell_type": "code",
   "execution_count": 5,
   "id": "60ae710a-b292-4e0e-b26e-58918fc0bd7a",
   "metadata": {},
   "outputs": [
    {
     "ename": "IndentationError",
     "evalue": "unindent does not match any outer indentation level (llm_chat.py, line 65)",
     "output_type": "error",
     "traceback": [
      "Traceback \u001b[0;36m(most recent call last)\u001b[0m:\n",
      "\u001b[0m  File \u001b[1;32m/usr/local/lib/python3.10/site-packages/IPython/core/interactiveshell.py:3508\u001b[0m in \u001b[1;35mrun_code\u001b[0m\n    exec(code_obj, self.user_global_ns, self.user_ns)\u001b[0m\n",
      "\u001b[0;36m  Cell \u001b[0;32mIn[5], line 2\u001b[0;36m\n\u001b[0;31m    from chat.llm_chat import LLMConversation\u001b[0;36m\n",
      "\u001b[0;36m  File \u001b[0;32m/workspaces/eda-ai/src/chat/llm_chat.py:65\u001b[0;36m\u001b[0m\n\u001b[0;31m    def __init__(self, llm: BaseLLM,\u001b[0m\n\u001b[0m                                     ^\u001b[0m\n\u001b[0;31mIndentationError\u001b[0m\u001b[0;31m:\u001b[0m unindent does not match any outer indentation level\n"
     ]
    }
   ],
   "source": [
    "import panel as pn\n",
    "from chat.llm_chat import LLMConversation\n",
    "from langchain.llms import OpenAI"
   ]
  },
  {
   "cell_type": "code",
   "execution_count": null,
   "id": "a7314844-f8fe-40ba-a9a4-20162d68c55d",
   "metadata": {},
   "outputs": [],
   "source": [
    "import json\n",
    "\n",
    "# Read the Open AI API key from the secret file\n",
    "with open(\"../secret\") as f:\n",
    "    secret = json.load(f)\n",
    "    open_ai_key = secret[\"open_ai_key\"]"
   ]
  },
  {
   "cell_type": "code",
   "execution_count": null,
   "id": "f59ccaf9-0f59-4089-b0a7-21b02159ca6c",
   "metadata": {},
   "outputs": [],
   "source": [
    "my_llm = OpenAI(streaming=True, temperature=0.7, openai_api_key=open_ai_key)\n",
    "llm_conversation = LLMConversation(my_llm)\n",
    "llm_conversation.view()"
   ]
  },
  {
   "cell_type": "code",
   "execution_count": null,
   "id": "9df842b2-ce35-4525-a8ab-3b14b9a9992e",
   "metadata": {},
   "outputs": [],
   "source": []
  }
 ],
 "metadata": {
  "kernelspec": {
   "display_name": "Python 3 (ipykernel)",
   "language": "python",
   "name": "python3"
  },
  "language_info": {
   "codemirror_mode": {
    "name": "ipython",
    "version": 3
   },
   "file_extension": ".py",
   "mimetype": "text/x-python",
   "name": "python",
   "nbconvert_exporter": "python",
   "pygments_lexer": "ipython3",
   "version": "3.10.11"
  }
 },
 "nbformat": 4,
 "nbformat_minor": 5
}
